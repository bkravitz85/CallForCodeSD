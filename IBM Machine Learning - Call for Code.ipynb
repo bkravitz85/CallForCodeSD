{
 "cells": [
  {
   "cell_type": "markdown",
   "metadata": {},
   "source": [
    "# Call For Code - Documentation Machine Learning\n",
    "HIC MANEBIMUS OPTIME\n",
    "\n",
    "Remember before we defined several attributes of our data science project:\n",
    "\"Predict if a house will experience a disaster and its effects\"\n",
    "\n",
    "Define scope:\n",
    "    \"Predict if a disaster will occur....\"\n",
    "                                            | Factors => \n",
    "                                                        Understand Features of Data\n",
    "                                                        Critical Features\n",
    "                                                        Risk Population\n",
    "                                                        Data Source Evaluation\n",
    "\n",
    "Define performance:\n",
    "             Prediction Accuracy            | Target Thresholds =>\n",
    "             <70% Accurancy\n",
    "             \n",
    "             \n",
    "             \n",
    "             \n",
    "             \n",
    "Context:\n",
    "    \"Using NASA/NOAA and Weather Company data, we can predict with 70% or greater accurancy, which homes will be effected by disasters.\"\n",
    "    \n",
    "    \n",
    "    Solution Data => \"Use Machine Learning Workflow to process and transofrm Weather Company Data to create a prediction model, this model must predict which homes will be effected by impending disasters.\"\n",
    "    \n",
    "    \n",
    "Now we are going to create a dataset in Python to grab from Salesforce that will hopefully give us better insight into disasters."
   ]
  },
  {
   "cell_type": "markdown",
   "metadata": {},
   "source": [
    "# Import Modules\n",
    "##We will import necessary plotting tools to help us identify key data points"
   ]
  },
  {
   "cell_type": "code",
   "execution_count": 9,
   "metadata": {},
   "outputs": [],
   "source": [
    "import pandas as pd                 # Import Pandas for Data Frames\n",
    "import matplotlib.pyplot as plt     # Using mathplot plotting data points\n",
    "import numpy as np                  # Support Objects\n",
    "import geopy.geocoders as geocoders # Geocoding Object Support\n",
    "import shapely.geometry as shapely  # Faster searching in polygons"
   ]
  },
  {
   "cell_type": "markdown",
   "metadata": {},
   "source": [
    "# Load and Review the Data\n",
    "##Let's practice for a second here and load some data"
   ]
  },
  {
   "cell_type": "code",
   "execution_count": 27,
   "metadata": {},
   "outputs": [],
   "source": [
    "df = pd.read_csv(\"./Desktop/zillow.csv\") #load real estate data"
   ]
  },
  {
   "cell_type": "code",
   "execution_count": 9,
   "metadata": {},
   "outputs": [
    {
     "data": {
      "text/plain": [
       "(18317, 11)"
      ]
     },
     "execution_count": 9,
     "metadata": {},
     "output_type": "execute_result"
    }
   ],
   "source": [
    "df.shape #show us the shape of the file"
   ]
  },
  {
   "cell_type": "code",
   "execution_count": 32,
   "metadata": {},
   "outputs": [
    {
     "data": {
      "text/plain": [
       "0     98-867 Kaonohi St APT D\n",
       "1           99-121 Ululaau Pl\n",
       "2    99-829 Halawa Heights Rd\n",
       "3         99-677 Kahilinai Pl\n",
       "4         98-1641 Hoolauae St\n",
       "Name: address, dtype: object"
      ]
     },
     "execution_count": 32,
     "metadata": {},
     "output_type": "execute_result"
    }
   ],
   "source": [
    "df['address'].head(5) #print first 5"
   ]
  },
  {
   "cell_type": "code",
   "execution_count": 11,
   "metadata": {},
   "outputs": [],
   "source": [
    "sale_type_map = {'House For Sale' : 'Single Family Home'} #create quick transform map if => (text)"
   ]
  },
  {
   "cell_type": "code",
   "execution_count": 12,
   "metadata": {},
   "outputs": [],
   "source": [
    "df['sale_type'] = df['sale_type'].map(sale_type_map) #apply quick transform map to data"
   ]
  },
  {
   "cell_type": "markdown",
   "metadata": {},
   "source": [
    "# Lets Make Coordinates && Get Geodata from Nominatim"
   ]
  },
  {
   "cell_type": "markdown",
   "metadata": {},
   "source": []
  },
  {
   "cell_type": "code",
   "execution_count": 23,
   "metadata": {},
   "outputs": [],
   "source": [
    "latitude = 33.0370 #sample starting point\n",
    "longitude = -117.2920 #sample longitude\n",
    "polygon = Polygon([((latitude - 1), (longitude - 1)), (latitude, longitude), ((latitude + 1), (longitude + 1))])"
   ]
  },
  {
   "cell_type": "code",
   "execution_count": 24,
   "metadata": {},
   "outputs": [
    {
     "name": "stdout",
     "output_type": "stream",
     "text": [
      "False\n",
      "False\n"
     ]
    }
   ],
   "source": [
    "y = latitude\n",
    "x = longitude\n",
    "point = Point(y,x) # create point (Convert Home into Coordinates from SF)\n",
    "print(polygon.contains(point)) # check if polygon contains point\n",
    "print(point.within(polygon)) # check if a point is in the polygon "
   ]
  },
  {
   "cell_type": "code",
   "execution_count": 14,
   "metadata": {},
   "outputs": [
    {
     "name": "stdout",
     "output_type": "stream",
     "text": [
      "121 Ululaau Pl\n"
     ]
    }
   ],
   "source": [
    "from geopy.geocoders import Nominatim\n",
    "geolocator = Nominatim(user_agent='PerDiem (+https://www.investperdiem.com/)')    \n",
    "split1 = df['address'].str.split(\"-\", 1)\n",
    "split2 = split1.str[1]\n",
    "print(split2.get(1)) \n",
    "location = geolocator.geocode('121 Ululaau Pl') #get geocoords"
   ]
  },
  {
   "cell_type": "code",
   "execution_count": 16,
   "metadata": {},
   "outputs": [
    {
     "data": {
      "text/html": [
       "<div>\n",
       "<style scoped>\n",
       "    .dataframe tbody tr th:only-of-type {\n",
       "        vertical-align: middle;\n",
       "    }\n",
       "\n",
       "    .dataframe tbody tr th {\n",
       "        vertical-align: top;\n",
       "    }\n",
       "\n",
       "    .dataframe thead th {\n",
       "        text-align: right;\n",
       "    }\n",
       "</style>\n",
       "<table border=\"1\" class=\"dataframe\">\n",
       "  <thead>\n",
       "    <tr style=\"text-align: right;\">\n",
       "      <th></th>\n",
       "      <th>address</th>\n",
       "      <th>city</th>\n",
       "      <th>state</th>\n",
       "      <th>zip</th>\n",
       "      <th>price</th>\n",
       "      <th>sqft</th>\n",
       "      <th>bedrooms</th>\n",
       "      <th>bathrooms</th>\n",
       "      <th>days_on_zillow</th>\n",
       "      <th>sale_type</th>\n",
       "      <th>url</th>\n",
       "    </tr>\n",
       "  </thead>\n",
       "  <tbody>\n",
       "    <tr>\n",
       "      <th>0</th>\n",
       "      <td>98-867 Kaonohi St APT D</td>\n",
       "      <td>Aiea</td>\n",
       "      <td>HI</td>\n",
       "      <td>96701</td>\n",
       "      <td>174900.0</td>\n",
       "      <td>1222.0</td>\n",
       "      <td>3.0</td>\n",
       "      <td>2.0</td>\n",
       "      <td>NaN</td>\n",
       "      <td>NaN</td>\n",
       "      <td>http://www.zillow.com/homes/for_sale//homedeta...</td>\n",
       "    </tr>\n",
       "    <tr>\n",
       "      <th>1</th>\n",
       "      <td>99-121 Ululaau Pl</td>\n",
       "      <td>AIEA</td>\n",
       "      <td>HI</td>\n",
       "      <td>96701</td>\n",
       "      <td>1010000.0</td>\n",
       "      <td>3761.0</td>\n",
       "      <td>4.0</td>\n",
       "      <td>4.0</td>\n",
       "      <td>4.0</td>\n",
       "      <td>Single Family Home</td>\n",
       "      <td>http://www.zillow.com/homes/for_sale//homedeta...</td>\n",
       "    </tr>\n",
       "    <tr>\n",
       "      <th>2</th>\n",
       "      <td>99-829 Halawa Heights Rd</td>\n",
       "      <td>AIEA</td>\n",
       "      <td>HI</td>\n",
       "      <td>96701</td>\n",
       "      <td>775000.0</td>\n",
       "      <td>1972.0</td>\n",
       "      <td>4.0</td>\n",
       "      <td>2.0</td>\n",
       "      <td>23.0</td>\n",
       "      <td>Single Family Home</td>\n",
       "      <td>http://www.zillow.com/homes/for_sale//homedeta...</td>\n",
       "    </tr>\n",
       "    <tr>\n",
       "      <th>3</th>\n",
       "      <td>99-677 Kahilinai Pl</td>\n",
       "      <td>AIEA</td>\n",
       "      <td>HI</td>\n",
       "      <td>96701</td>\n",
       "      <td>1295000.0</td>\n",
       "      <td>2790.0</td>\n",
       "      <td>4.0</td>\n",
       "      <td>4.0</td>\n",
       "      <td>6.0</td>\n",
       "      <td>Single Family Home</td>\n",
       "      <td>http://www.zillow.com/homes/for_sale//homedeta...</td>\n",
       "    </tr>\n",
       "    <tr>\n",
       "      <th>4</th>\n",
       "      <td>98-1641 Hoolauae St</td>\n",
       "      <td>AIEA</td>\n",
       "      <td>HI</td>\n",
       "      <td>96701</td>\n",
       "      <td>799900.0</td>\n",
       "      <td>1440.0</td>\n",
       "      <td>4.0</td>\n",
       "      <td>2.0</td>\n",
       "      <td>5.0</td>\n",
       "      <td>Single Family Home</td>\n",
       "      <td>http://www.zillow.com/homes/for_sale//homedeta...</td>\n",
       "    </tr>\n",
       "  </tbody>\n",
       "</table>\n",
       "</div>"
      ],
      "text/plain": [
       "                    address  city state    zip      price    sqft  bedrooms  \\\n",
       "0   98-867 Kaonohi St APT D  Aiea    HI  96701   174900.0  1222.0       3.0   \n",
       "1         99-121 Ululaau Pl  AIEA    HI  96701  1010000.0  3761.0       4.0   \n",
       "2  99-829 Halawa Heights Rd  AIEA    HI  96701   775000.0  1972.0       4.0   \n",
       "3       99-677 Kahilinai Pl  AIEA    HI  96701  1295000.0  2790.0       4.0   \n",
       "4       98-1641 Hoolauae St  AIEA    HI  96701   799900.0  1440.0       4.0   \n",
       "\n",
       "   bathrooms  days_on_zillow           sale_type  \\\n",
       "0        2.0             NaN                 NaN   \n",
       "1        4.0             4.0  Single Family Home   \n",
       "2        2.0            23.0  Single Family Home   \n",
       "3        4.0             6.0  Single Family Home   \n",
       "4        2.0             5.0  Single Family Home   \n",
       "\n",
       "                                                 url  \n",
       "0  http://www.zillow.com/homes/for_sale//homedeta...  \n",
       "1  http://www.zillow.com/homes/for_sale//homedeta...  \n",
       "2  http://www.zillow.com/homes/for_sale//homedeta...  \n",
       "3  http://www.zillow.com/homes/for_sale//homedeta...  \n",
       "4  http://www.zillow.com/homes/for_sale//homedeta...  "
      ]
     },
     "execution_count": 16,
     "metadata": {},
     "output_type": "execute_result"
    }
   ],
   "source": [
    "df.head(5)"
   ]
  },
  {
   "cell_type": "code",
   "execution_count": null,
   "metadata": {},
   "outputs": [],
   "source": []
  }
 ],
 "metadata": {
  "kernelspec": {
   "display_name": "Python 2",
   "language": "python",
   "name": "python2"
  },
  "language_info": {
   "codemirror_mode": {
    "name": "ipython",
    "version": 2
   },
   "file_extension": ".py",
   "mimetype": "text/x-python",
   "name": "python",
   "nbconvert_exporter": "python",
   "pygments_lexer": "ipython2",
   "version": "2.7.15"
  }
 },
 "nbformat": 4,
 "nbformat_minor": 2
}
